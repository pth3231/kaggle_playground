{
 "cells": [
  {
   "cell_type": "code",
   "execution_count": 624,
   "metadata": {},
   "outputs": [],
   "source": [
    "from tensorflow import keras\n",
    "import pandas as pd\n",
    "from sklearn.model_selection import train_test_split\n",
    "from sklearn.metrics import mean_squared_error\n",
    "import matplotlib.pyplot as plt\n",
    "import seaborn as sns\n",
    "\n",
    "# data = pd.read_csv(\"./red-wine.csv\")\n",
    "# features = [\"pH\", \"chlorides\", \"density\", \"residual sugar\", \"alcohol\", \"total sulfur dioxide\"]\n",
    "# X = data[features]\n",
    "# y = data.quality\n",
    "# length = len(features)\n",
    "# model = keras.Sequential([\n",
    "#     keras.layers.Dense(units=30, activation='relu', input_shape=[length]),\n",
    "#     keras.layers.Dense(units=25, activation='relu'),\n",
    "#     keras.layers.Dense(units=1)\n",
    "# ])\n",
    "# model.compile(loss=\"mse\")\n",
    "\n",
    "# X_train, X_test, y_train, y_test = train_test_split(X, y, train_size=0.9)\n",
    "\n",
    "# model.fit(X_train, y_train)\n",
    "# y_pred = model.predict(X_test)\n",
    "\n",
    "# score = mean_absolute_error(y_test.to_numpy(), y_pred)\n",
    "# print(score)"
   ]
  },
  {
   "cell_type": "code",
   "execution_count": 625,
   "metadata": {},
   "outputs": [],
   "source": [
    "# sns.scatterplot(y_pred)\n",
    "# sns.scatterplot(y_test.to_numpy())"
   ]
  },
  {
   "cell_type": "code",
   "execution_count": 626,
   "metadata": {},
   "outputs": [
    {
     "name": "stdout",
     "output_type": "stream",
     "text": [
      "<class 'pandas.core.frame.DataFrame'>\n",
      "RangeIndex: 20640 entries, 0 to 20639\n",
      "Data columns (total 10 columns):\n",
      " #   Column       Non-Null Count  Dtype  \n",
      "---  ------       --------------  -----  \n",
      " 0   Unnamed: 0   20640 non-null  int64  \n",
      " 1   MedInc       20640 non-null  float64\n",
      " 2   HouseAge     20640 non-null  float64\n",
      " 3   AveRooms     20640 non-null  float64\n",
      " 4   AveBedrms    20640 non-null  float64\n",
      " 5   Population   20640 non-null  float64\n",
      " 6   AveOccup     20640 non-null  float64\n",
      " 7   Latitude     20640 non-null  float64\n",
      " 8   Longitude    20640 non-null  float64\n",
      " 9   MedHouseVal  20640 non-null  float64\n",
      "dtypes: float64(9), int64(1)\n",
      "memory usage: 1.6 MB\n",
      "Epoch 1/21\n",
      "37/37 [==============================] - 1s 13ms/step - loss: 18.7456 - val_loss: 1.5691\n",
      "Epoch 2/21\n",
      "37/37 [==============================] - 0s 10ms/step - loss: 1.6242 - val_loss: 1.1061\n",
      "Epoch 3/21\n",
      "37/37 [==============================] - 0s 9ms/step - loss: 2.4116 - val_loss: 4.0335\n",
      "Epoch 4/21\n",
      "37/37 [==============================] - 0s 11ms/step - loss: 2.2893 - val_loss: 1.9982\n",
      "Epoch 5/21\n",
      "37/37 [==============================] - 0s 10ms/step - loss: 1.6045 - val_loss: 0.8489\n",
      "Epoch 6/21\n",
      "37/37 [==============================] - 0s 10ms/step - loss: 1.2745 - val_loss: 1.1972\n",
      "Epoch 7/21\n",
      "37/37 [==============================] - 0s 10ms/step - loss: 1.9663 - val_loss: 1.3986\n",
      "Epoch 8/21\n",
      "37/37 [==============================] - 0s 11ms/step - loss: 1.0115 - val_loss: 1.0502\n",
      "Epoch 9/21\n",
      "37/37 [==============================] - 0s 10ms/step - loss: 0.9754 - val_loss: 0.9254\n",
      "Epoch 10/21\n",
      "37/37 [==============================] - 0s 11ms/step - loss: 0.8472 - val_loss: 0.7258\n",
      "Epoch 11/21\n",
      "37/37 [==============================] - 0s 12ms/step - loss: 0.8141 - val_loss: 0.8497\n",
      "Epoch 12/21\n",
      "37/37 [==============================] - 0s 11ms/step - loss: 0.8641 - val_loss: 0.6986\n",
      "Epoch 13/21\n",
      "37/37 [==============================] - 0s 10ms/step - loss: 0.8448 - val_loss: 0.9108\n",
      "Epoch 14/21\n",
      "37/37 [==============================] - 0s 10ms/step - loss: 0.7718 - val_loss: 0.7435\n",
      "Epoch 15/21\n",
      "37/37 [==============================] - 0s 12ms/step - loss: 0.7074 - val_loss: 0.9972\n",
      "Epoch 16/21\n",
      "37/37 [==============================] - 0s 10ms/step - loss: 0.8086 - val_loss: 1.1315\n",
      "Epoch 17/21\n",
      "37/37 [==============================] - 0s 11ms/step - loss: 0.7906 - val_loss: 0.7201\n",
      "Epoch 18/21\n",
      "37/37 [==============================] - 0s 10ms/step - loss: 0.6991 - val_loss: 0.7387\n",
      "Epoch 19/21\n",
      "37/37 [==============================] - 0s 9ms/step - loss: 0.7024 - val_loss: 0.6044\n",
      "Epoch 20/21\n",
      "37/37 [==============================] - 0s 10ms/step - loss: 0.7051 - val_loss: 0.8372\n",
      "Epoch 21/21\n",
      "37/37 [==============================] - 0s 10ms/step - loss: 0.6740 - val_loss: 0.5977\n",
      "65/65 [==============================] - 0s 1ms/step\n",
      "0.7343259949678488\n"
     ]
    }
   ],
   "source": [
    "import numpy\n",
    "\n",
    "data = pd.read_csv(\"./housing.csv\")\n",
    "data.info()\n",
    "\n",
    "features = ['MedInc', 'HouseAge', 'AveRooms', 'AveBedrms', 'Population', 'Latitude', 'Longitude']\n",
    "X = data[features]\n",
    "y = data['MedHouseVal']\n",
    "\n",
    "length = len(features)\n",
    "\n",
    "model = keras.Sequential([\n",
    "    keras.layers.Dense(units=512, activation='relu', input_shape=[length]),\n",
    "    keras.layers.Dense(units=256, activation='relu'),\n",
    "    keras.layers.Dense(units=256, activation='relu'),\n",
    "    keras.layers.Dense(units=1)\n",
    "])\n",
    "\n",
    "model.compile(optimizer='adam', loss='mae')\n",
    "\n",
    "X_train, X_test, y_train, y_test = train_test_split(X, y, train_size=0.9)\n",
    "\n",
    "history = model.fit(  \n",
    "            X_train, y_train, \n",
    "            validation_data=(X_test, y_test),\n",
    "            batch_size=512,\n",
    "            epochs=21)\n",
    "y_pred = model.predict(X_test)\n",
    "\n",
    "score = mean_squared_error(y_test.to_numpy(), y_pred)\n",
    "print(score)"
   ]
  },
  {
   "cell_type": "code",
   "execution_count": 627,
   "metadata": {},
   "outputs": [
    {
     "data": {
      "image/png": "[encoded data removed]",
      "text/plain": [
       "<Figure size 640x480 with 1 Axes>"
      ]
     },
     "metadata": {},
     "output_type": "display_data"
    }
   ],
   "source": [
    "# convert the training history to a dataframe\n",
    "history_df = pd.DataFrame(history.history)\n",
    "# use Pandas native plot method\n",
    "history_df['loss'].plot();"
   ]
  }
 ],
 "metadata": {
  "kernelspec": {
   "display_name": "Python 3",
   "language": "python",
   "name": "python3"
  },
  "language_info": {
   "codemirror_mode": {
    "name": "ipython",
    "version": 3
   },
   "file_extension": ".py",
   "mimetype": "text/x-python",
   "name": "python",
   "nbconvert_exporter": "python",
   "pygments_lexer": "ipython3",
   "version": "3.11.4"
  },
  "orig_nbformat": 4
 },
 "nbformat": 4,
 "nbformat_minor": 2
}
