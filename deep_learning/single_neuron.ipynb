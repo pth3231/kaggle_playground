{
 "cells": [
  {
   "cell_type": "code",
   "execution_count": 620,
   "metadata": {},
   "outputs": [],
   "source": [
    "from tensorflow import keras\n",
    "import pandas as pd\n",
    "from sklearn.model_selection import train_test_split\n",
    "from sklearn.metrics import mean_squared_error\n",
    "import matplotlib.pyplot as plt\n",
    "import seaborn as sns\n",
    "\n",
    "# data = pd.read_csv(\"./red-wine.csv\")\n",
    "# features = [\"pH\", \"chlorides\", \"density\", \"residual sugar\", \"alcohol\", \"total sulfur dioxide\"]\n",
    "# X = data[features]\n",
    "# y = data.quality\n",
    "# length = len(features)\n",
    "# model = keras.Sequential([\n",
    "#     keras.layers.Dense(units=30, activation='relu', input_shape=[length]),\n",
    "#     keras.layers.Dense(units=25, activation='relu'),\n",
    "#     keras.layers.Dense(units=1)\n",
    "# ])\n",
    "# model.compile(loss=\"mse\")\n",
    "\n",
    "# X_train, X_test, y_train, y_test = train_test_split(X, y, train_size=0.9)\n",
    "\n",
    "# model.fit(X_train, y_train)\n",
    "# y_pred = model.predict(X_test)\n",
    "\n",
    "# score = mean_absolute_error(y_test.to_numpy(), y_pred)\n",
    "# print(score)"
   ]
  },
  {
   "cell_type": "code",
   "execution_count": 621,
   "metadata": {},
   "outputs": [],
   "source": [
    "# sns.scatterplot(y_pred)\n",
    "# sns.scatterplot(y_test.to_numpy())"
   ]
  },
  {
   "cell_type": "code",
   "execution_count": 622,
   "metadata": {},
   "outputs": [
    {
     "name": "stdout",
     "output_type": "stream",
     "text": [
      "<class 'pandas.core.frame.DataFrame'>\n",
      "RangeIndex: 20640 entries, 0 to 20639\n",
      "Data columns (total 10 columns):\n",
      " #   Column       Non-Null Count  Dtype  \n",
      "---  ------       --------------  -----  \n",
      " 0   Unnamed: 0   20640 non-null  int64  \n",
      " 1   MedInc       20640 non-null  float64\n",
      " 2   HouseAge     20640 non-null  float64\n",
      " 3   AveRooms     20640 non-null  float64\n",
      " 4   AveBedrms    20640 non-null  float64\n",
      " 5   Population   20640 non-null  float64\n",
      " 6   AveOccup     20640 non-null  float64\n",
      " 7   Latitude     20640 non-null  float64\n",
      " 8   Longitude    20640 non-null  float64\n",
      " 9   MedHouseVal  20640 non-null  float64\n",
      "dtypes: float64(9), int64(1)\n",
      "memory usage: 1.6 MB\n",
      "Epoch 1/10\n",
      "37/37 [==============================] - 1s 17ms/step - loss: 26.6755 - val_loss: 2.6668\n",
      "Epoch 2/10\n",
      "37/37 [==============================] - 1s 14ms/step - loss: 5.9521 - val_loss: 6.4916\n",
      "Epoch 3/10\n",
      "37/37 [==============================] - 1s 15ms/step - loss: 4.8473 - val_loss: 8.3820\n",
      "Epoch 4/10\n",
      "37/37 [==============================] - 0s 13ms/step - loss: 2.2379 - val_loss: 1.5101\n",
      "Epoch 5/10\n",
      "37/37 [==============================] - 0s 10ms/step - loss: 1.1186 - val_loss: 0.9060\n",
      "Epoch 6/10\n",
      "37/37 [==============================] - 0s 10ms/step - loss: 1.5368 - val_loss: 1.0378\n",
      "Epoch 7/10\n",
      "37/37 [==============================] - 0s 11ms/step - loss: 1.4898 - val_loss: 1.3660\n",
      "Epoch 8/10\n",
      "37/37 [==============================] - 0s 10ms/step - loss: 1.1733 - val_loss: 1.0235\n",
      "Epoch 9/10\n",
      "37/37 [==============================] - 0s 10ms/step - loss: 1.2471 - val_loss: 1.1403\n",
      "Epoch 10/10\n",
      "37/37 [==============================] - 0s 11ms/step - loss: 0.9549 - val_loss: 0.8213\n",
      "65/65 [==============================] - 0s 1ms/step\n",
      "1.027068274429952\n"
     ]
    }
   ],
   "source": [
    "import numpy\n",
    "\n",
    "data = pd.read_csv(\"./housing.csv\")\n",
    "data.info()\n",
    "\n",
    "features = ['MedInc', 'HouseAge', 'AveRooms', 'AveBedrms', 'Population', 'Latitude', 'Longitude']\n",
    "X = data[features]\n",
    "y = data['MedHouseVal']\n",
    "\n",
    "length = len(features)\n",
    "\n",
    "model = keras.Sequential([\n",
    "    keras.layers.Dense(units=512, activation='relu', input_shape=[length]),\n",
    "    keras.layers.Dense(units=256, activation='relu'),\n",
    "    keras.layers.Dense(units=256, activation='relu'),\n",
    "    keras.layers.Dense(units=1)\n",
    "])\n",
    "\n",
    "model.compile(optimizer='adam', loss='mae')\n",
    "\n",
    "X_train, X_test, y_train, y_test = train_test_split(X, y, train_size=0.9)\n",
    "\n",
    "history = model.fit(  \n",
    "            X_train, y_train, \n",
    "            validation_data=(X_test, y_test),\n",
    "            batch_size=512,\n",
    "            epochs=21)\n",
    "y_pred = model.predict(X_test)\n",
    "\n",
    "score = mean_squared_error(y_test.to_numpy(), y_pred)\n",
    "print(score)"
   ]
  },
  {
   "cell_type": "code",
   "execution_count": 623,
   "metadata": {},
   "outputs": [
    {
     "data": {
      "image/png": "[encoded data removed]",
      "text/plain": [
       "<Figure size 640x480 with 1 Axes>"
      ]
     },
     "metadata": {},
     "output_type": "display_data"
    }
   ],
   "source": [
    "# convert the training history to a dataframe\n",
    "history_df = pd.DataFrame(history.history)\n",
    "# use Pandas native plot method\n",
    "history_df['loss'].plot();"
   ]
  }
 ],
 "metadata": {
  "kernelspec": {
   "display_name": "Python 3",
   "language": "python",
   "name": "python3"
  },
  "language_info": {
   "codemirror_mode": {
    "name": "ipython",
    "version": 3
   },
   "file_extension": ".py",
   "mimetype": "text/x-python",
   "name": "python",
   "nbconvert_exporter": "python",
   "pygments_lexer": "ipython3",
   "version": "3.11.4"
  },
  "orig_nbformat": 4
 },
 "nbformat": 4,
 "nbformat_minor": 2
}
