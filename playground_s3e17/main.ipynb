{
 "cells": [
  {
   "cell_type": "code",
   "execution_count": 18,
   "metadata": {},
   "outputs": [
    {
     "name": "stdout",
     "output_type": "stream",
     "text": [
      "<class 'pandas.core.frame.DataFrame'>\n",
      "RangeIndex: 136429 entries, 0 to 136428\n",
      "Data columns (total 6 columns):\n",
      " #   Column                   Non-Null Count   Dtype  \n",
      "---  ------                   --------------   -----  \n",
      " 0   Type                     136429 non-null  object \n",
      " 1   Air temperature [K]      136429 non-null  float64\n",
      " 2   Process temperature [K]  136429 non-null  float64\n",
      " 3   Rotational speed [rpm]   136429 non-null  int64  \n",
      " 4   Torque [Nm]              136429 non-null  float64\n",
      " 5   Tool wear [min]          136429 non-null  int64  \n",
      "dtypes: float64(3), int64(2), object(1)\n",
      "memory usage: 6.2+ MB\n"
     ]
    }
   ],
   "source": [
    "import numpy as np\n",
    "import pandas as pd\n",
    "\n",
    "train_set   = pd.read_csv(\"./dataset/train.csv\")\n",
    "test_set    = pd.read_csv(\"./dataset/test.csv\")\n",
    "\n",
    "features    = [\"Type\", \"Air temperature [K]\", \"Process temperature [K]\", \"Rotational speed [rpm]\", \"Torque [Nm]\", \"Tool wear [min]\"]\n",
    "y_train = train_set[\"Machine failure\"]\n",
    "X_train = train_set[features]\n",
    "\n",
    "X_test  = test_set[features]\n",
    "\n",
    "X_train.info()"
   ]
  },
  {
   "cell_type": "code",
   "execution_count": 23,
   "metadata": {},
   "outputs": [
    {
     "data": {
      "text/plain": [
       "count    136429.000000\n",
       "mean          0.015744\n",
       "std           0.124486\n",
       "min           0.000000\n",
       "25%           0.000000\n",
       "50%           0.000000\n",
       "75%           0.000000\n",
       "max           1.000000\n",
       "Name: Machine failure, dtype: float64"
      ]
     },
     "execution_count": 23,
     "metadata": {},
     "output_type": "execute_result"
    }
   ],
   "source": [
    "X_train.loc[X_train[\"Type\"] == \"M\", \"Type\"] = 0\n",
    "X_train.loc[X_train[\"Type\"] == \"L\", \"Type\"] = 1\n",
    "X_train.loc[X_train[\"Type\"] == \"H\", \"Type\"] = 2\n",
    "\n",
    "X_test.loc[X_test[\"Type\"] == \"M\", \"Type\"] = 0\n",
    "X_test.loc[X_test[\"Type\"] == \"L\", \"Type\"] = 1\n",
    "X_test.loc[X_test[\"Type\"] == \"H\", \"Type\"] = 2\n",
    "\n",
    "y_train.describe()"
   ]
  },
  {
   "cell_type": "code",
   "execution_count": 21,
   "metadata": {},
   "outputs": [
    {
     "name": "stdout",
     "output_type": "stream",
     "text": [
      "                  id  Machine failure\n",
      "count   90954.000000     90954.000000\n",
      "mean   181905.500000         0.008092\n",
      "std     26256.302529         0.089591\n",
      "min    136429.000000         0.000000\n",
      "25%    159167.250000         0.000000\n",
      "50%    181905.500000         0.000000\n",
      "75%    204643.750000         0.000000\n",
      "max    227382.000000         1.000000\n"
     ]
    }
   ],
   "source": [
    "from sklearn.ensemble import RandomForestClassifier\n",
    "\n",
    "model = RandomForestClassifier()\n",
    "\n",
    "model.fit(X_train, y_train)\n",
    "\n",
    "predictions = model.predict(X_test)\n",
    "\n",
    "output = pd.DataFrame({\"id\": test_set[\"id\"], \"Machine failure\": predictions})\n",
    "\n",
    "print(output.describe())\n",
    "\n",
    "output.to_csv(\"./dataset/submission.csv\", index=False)"
   ]
  }
 ],
 "metadata": {
  "kernelspec": {
   "display_name": "Python 3",
   "language": "python",
   "name": "python3"
  },
  "language_info": {
   "codemirror_mode": {
    "name": "ipython",
    "version": 3
   },
   "file_extension": ".py",
   "mimetype": "text/x-python",
   "name": "python",
   "nbconvert_exporter": "python",
   "pygments_lexer": "ipython3",
   "version": "3.11.4"
  },
  "orig_nbformat": 4
 },
 "nbformat": 4,
 "nbformat_minor": 2
}
